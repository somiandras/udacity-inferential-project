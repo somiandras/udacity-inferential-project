{
 "cells": [
  {
   "cell_type": "markdown",
   "metadata": {},
   "source": [
    "# The Stroop Effect\n",
    "### Inferential Statistics Project - Andras Somi\n",
    "\n",
    "In this report I analyse a sample of users who completed the test for the Stroop Effect, and examine the relationship of the incongruence between the meaning and the color of the words and the time needed to finish naming the colors in the list of words."
   ]
  },
  {
   "cell_type": "code",
   "execution_count": 110,
   "metadata": {
    "collapsed": false
   },
   "outputs": [],
   "source": [
    "from scipy import stats\n",
    "import numpy as np\n",
    "import pandas as pd\n",
    "%matplotlib inline\n",
    "import matplotlib.pyplot as plt\n",
    "import seaborn as sns\n",
    "import math"
   ]
  },
  {
   "cell_type": "code",
   "execution_count": 111,
   "metadata": {
    "collapsed": false
   },
   "outputs": [],
   "source": [
    "# Load dataset\n",
    "data = pd.read_csv('stroopdata.csv')"
   ]
  },
  {
   "cell_type": "markdown",
   "metadata": {},
   "source": [
    "## 1. What is our independent variable? What is our dependent variable?\n",
    "\n",
    "In this experiment we want to test whether a disconnection between the color of the letters and the meaning of the word makes it more difficult to call out the color of the letters. The operational definition for this difficulty is the time it takes to name the color.\n",
    "\n",
    "Therefore our independent variable is the congruence between the word and the color of the ink, while our dependent variable is the time it takes to correctly pronounce the color of the ink of the words."
   ]
  },
  {
   "cell_type": "markdown",
   "metadata": {},
   "source": [
    "## 2. What is an appropriate set of hypotheses for this task? What kind of statistical test do you expect to perform? Justify your choices.\n",
    "\n",
    "The null-hypothesis is that the time it takes to pronounce the color of the ink does not differ between congruent and incongruent setups, while the alternative hypothesis is that it takes more time to call the color when it is incongruent with the meaning of the word.\n",
    "\n",
    "$H_0: \\mu_{cong} = \\mu_{incong}$,\n",
    "\n",
    "$H_A: \\mu_{cong} < \\mu_{incong}$,\n",
    "\n",
    "_where $\\mu_{cong}$: mean time on congruent list, and $\\mu_{incong}$: mean time on incongruent list._\n",
    "\n",
    "To test these hypotheses we need to perform a __one-sided t-Test of dependent variables.__\n",
    "\n",
    "1. The samples are dependent, paired samples, as each subject had to make two entries, one under each condition. This makes this test a 'whithin-subject' test. \n",
    "2. I also formulated the alternative hypothesis as the times under incongruent condition are _larger_ than under the other condition. Therefore we need a one-sided test to be able to reject $H_0$."
   ]
  },
  {
   "cell_type": "markdown",
   "metadata": {},
   "source": [
    "## 3. Report some descriptive statistics regarding this dataset. Include at least one measure of central tendency and at least one measure of variability."
   ]
  },
  {
   "cell_type": "code",
   "execution_count": 112,
   "metadata": {
    "collapsed": true
   },
   "outputs": [],
   "source": [
    "# Add series for the difference between times for each subject\n",
    "data['Diff'] = data['Incongruent'] - data['Congruent']"
   ]
  },
  {
   "cell_type": "markdown",
   "metadata": {},
   "source": [
    "__Congruent:__\n",
    "\n",
    "The values of the 24 observations fall in the range between 8.63 and 22.33 seconds, with a mean of 14.05 seconds, while the median is 14.36 seconds. The inter-quartile range is between 11.9 and 16.2 seconds.\n",
    "\n",
    "The standard deviation of the congruent observations is 3.56 seconds.\n",
    "\n",
    "__Incongruent:__\n",
    "\n",
    "The values of the 24 observations fall in the range between 15.69 and 32.26 seconds, with a mean of 22.02 seconds, while the median is 21.02 seconds. The inter-quartile range is between 18.72 and 24.05 seconds.\n",
    "\n",
    "The standard deviation of the incongruent observations is 4.8 seconds.\n",
    "\n",
    "__Difference:__\n",
    "\n",
    "All 24 subjects reported higher times for the incongruent list than the congruent list within the range between 1.95 seconds and 21.92 seconds. The mean and median difference is 7.96 seconds and 7.67 seconds, respectively.\n",
    "\n",
    "The standard deviation of the difference between recorded times is 4.86 seconds."
   ]
  },
  {
   "cell_type": "code",
   "execution_count": 113,
   "metadata": {
    "collapsed": false
   },
   "outputs": [
    {
     "data": {
      "text/html": [
       "<div>\n",
       "<style>\n",
       "    .dataframe thead tr:only-child th {\n",
       "        text-align: right;\n",
       "    }\n",
       "\n",
       "    .dataframe thead th {\n",
       "        text-align: left;\n",
       "    }\n",
       "\n",
       "    .dataframe tbody tr th {\n",
       "        vertical-align: top;\n",
       "    }\n",
       "</style>\n",
       "<table border=\"1\" class=\"dataframe\">\n",
       "  <thead>\n",
       "    <tr style=\"text-align: right;\">\n",
       "      <th></th>\n",
       "      <th>Congruent</th>\n",
       "      <th>Incongruent</th>\n",
       "      <th>Diff</th>\n",
       "    </tr>\n",
       "  </thead>\n",
       "  <tbody>\n",
       "    <tr>\n",
       "      <th>count</th>\n",
       "      <td>24.000000</td>\n",
       "      <td>24.000000</td>\n",
       "      <td>24.000000</td>\n",
       "    </tr>\n",
       "    <tr>\n",
       "      <th>mean</th>\n",
       "      <td>14.051125</td>\n",
       "      <td>22.015917</td>\n",
       "      <td>7.964792</td>\n",
       "    </tr>\n",
       "    <tr>\n",
       "      <th>std</th>\n",
       "      <td>3.559358</td>\n",
       "      <td>4.797057</td>\n",
       "      <td>4.864827</td>\n",
       "    </tr>\n",
       "    <tr>\n",
       "      <th>min</th>\n",
       "      <td>8.630000</td>\n",
       "      <td>15.687000</td>\n",
       "      <td>1.950000</td>\n",
       "    </tr>\n",
       "    <tr>\n",
       "      <th>25%</th>\n",
       "      <td>11.895250</td>\n",
       "      <td>18.716750</td>\n",
       "      <td>3.645500</td>\n",
       "    </tr>\n",
       "    <tr>\n",
       "      <th>50%</th>\n",
       "      <td>14.356500</td>\n",
       "      <td>21.017500</td>\n",
       "      <td>7.666500</td>\n",
       "    </tr>\n",
       "    <tr>\n",
       "      <th>75%</th>\n",
       "      <td>16.200750</td>\n",
       "      <td>24.051500</td>\n",
       "      <td>10.258500</td>\n",
       "    </tr>\n",
       "    <tr>\n",
       "      <th>max</th>\n",
       "      <td>22.328000</td>\n",
       "      <td>35.255000</td>\n",
       "      <td>21.919000</td>\n",
       "    </tr>\n",
       "  </tbody>\n",
       "</table>\n",
       "</div>"
      ],
      "text/plain": [
       "       Congruent  Incongruent       Diff\n",
       "count  24.000000    24.000000  24.000000\n",
       "mean   14.051125    22.015917   7.964792\n",
       "std     3.559358     4.797057   4.864827\n",
       "min     8.630000    15.687000   1.950000\n",
       "25%    11.895250    18.716750   3.645500\n",
       "50%    14.356500    21.017500   7.666500\n",
       "75%    16.200750    24.051500  10.258500\n",
       "max    22.328000    35.255000  21.919000"
      ]
     },
     "execution_count": 113,
     "metadata": {},
     "output_type": "execute_result"
    }
   ],
   "source": [
    "data.describe()"
   ]
  },
  {
   "cell_type": "markdown",
   "metadata": {},
   "source": [
    "__Correlations:__\n",
    "\n",
    "Correlation between congruent and incongruent time is light positive, meaning those subject who spend more time on the first list tend to spend somewhat more time on the second list, too. \n",
    "\n",
    "In the meantime the correlation between the congruent times and the differences between the two recorded times is negative, meaning that the subjects spending more time on the first list tend to use less 'extra' time for finishing the other list."
   ]
  },
  {
   "cell_type": "code",
   "execution_count": 114,
   "metadata": {
    "collapsed": false
   },
   "outputs": [
    {
     "data": {
      "text/html": [
       "<div>\n",
       "<style>\n",
       "    .dataframe thead tr:only-child th {\n",
       "        text-align: right;\n",
       "    }\n",
       "\n",
       "    .dataframe thead th {\n",
       "        text-align: left;\n",
       "    }\n",
       "\n",
       "    .dataframe tbody tr th {\n",
       "        vertical-align: top;\n",
       "    }\n",
       "</style>\n",
       "<table border=\"1\" class=\"dataframe\">\n",
       "  <thead>\n",
       "    <tr style=\"text-align: right;\">\n",
       "      <th></th>\n",
       "      <th>Congruent</th>\n",
       "      <th>Incongruent</th>\n",
       "      <th>Diff</th>\n",
       "    </tr>\n",
       "  </thead>\n",
       "  <tbody>\n",
       "    <tr>\n",
       "      <th>Congruent</th>\n",
       "      <td>1.000000</td>\n",
       "      <td>0.35182</td>\n",
       "      <td>-0.384733</td>\n",
       "    </tr>\n",
       "    <tr>\n",
       "      <th>Incongruent</th>\n",
       "      <td>0.351820</td>\n",
       "      <td>1.00000</td>\n",
       "      <td>0.728660</td>\n",
       "    </tr>\n",
       "    <tr>\n",
       "      <th>Diff</th>\n",
       "      <td>-0.384733</td>\n",
       "      <td>0.72866</td>\n",
       "      <td>1.000000</td>\n",
       "    </tr>\n",
       "  </tbody>\n",
       "</table>\n",
       "</div>"
      ],
      "text/plain": [
       "             Congruent  Incongruent      Diff\n",
       "Congruent     1.000000      0.35182 -0.384733\n",
       "Incongruent   0.351820      1.00000  0.728660\n",
       "Diff         -0.384733      0.72866  1.000000"
      ]
     },
     "execution_count": 114,
     "metadata": {},
     "output_type": "execute_result"
    }
   ],
   "source": [
    "data.corr()"
   ]
  },
  {
   "cell_type": "markdown",
   "metadata": {},
   "source": [
    "## 4. Provide one or two visualizations that show the distribution of the sample data. Write one or two sentences noting what you observe about the plot or plots."
   ]
  },
  {
   "cell_type": "markdown",
   "metadata": {},
   "source": [
    "The 'typical' time for the congruent words is around 14 seconds, but there is a secondary peak around 10 seconds. The 'typical' incongruent time is around 21 seconds, while the peak of the difference distribution is around 8 seconds."
   ]
  },
  {
   "cell_type": "code",
   "execution_count": 115,
   "metadata": {
    "collapsed": false
   },
   "outputs": [
    {
     "data": {
      "text/plain": [
       "<matplotlib.axes._subplots.AxesSubplot at 0x11be1f128>"
      ]
     },
     "execution_count": 115,
     "metadata": {},
     "output_type": "execute_result"
    },
    {
     "data": {
      "image/png": "[encoded data removed]",
      "text/plain": [
       "<matplotlib.figure.Figure at 0x11bb49518>"
      ]
     },
     "metadata": {},
     "output_type": "display_data"
    }
   ],
   "source": [
    "fig, (ax1, ax2, ax3) = plt.subplots(ncols=3, sharey=True, figsize=(16,8))\n",
    "sns.distplot(data['Congruent'], ax=ax1, kde=False)\n",
    "sns.distplot(data['Incongruent'], ax=ax2, kde=False)\n",
    "sns.distplot(data['Diff'], ax=ax3, kde=False)"
   ]
  },
  {
   "cell_type": "markdown",
   "metadata": {},
   "source": [
    "The scatterplot reflects the positive correlation between congruent and incongruent times, but the slope of the regression line is lower than 1. This means that the difference between the two values is tend to diminish as the congruent time grows, just as the plot on the right suggests."
   ]
  },
  {
   "cell_type": "code",
   "execution_count": 116,
   "metadata": {
    "collapsed": false
   },
   "outputs": [
    {
     "data": {
      "text/plain": [
       "<matplotlib.axes._subplots.AxesSubplot at 0x11c0f54a8>"
      ]
     },
     "execution_count": 116,
     "metadata": {},
     "output_type": "execute_result"
    },
    {
     "data": {
      "image/png": "[encoded data removed]",
      "text/plain": [
       "<matplotlib.figure.Figure at 0x11bbba7f0>"
      ]
     },
     "metadata": {},
     "output_type": "display_data"
    }
   ],
   "source": [
    "fig, (ax1, ax2) = plt.subplots(ncols=2, sharey=True, figsize=(16,8))\n",
    "sns.regplot(data=data, x='Congruent', y='Incongruent', ax=ax1, ci=False)\n",
    "sns.regplot(data=data, x='Congruent', y='Diff', ax=ax2, ci=False)"
   ]
  },
  {
   "cell_type": "markdown",
   "metadata": {},
   "source": [
    "## 5. Now, perform the statistical test and report your results. What is your confidence level and your critical statistic value? Do you reject the null hypothesis or fail to reject it? Come to a conclusion in terms of the experiment task. Did the results match up with your expectations?"
   ]
  },
  {
   "cell_type": "code",
   "execution_count": 117,
   "metadata": {
    "collapsed": false
   },
   "outputs": [
    {
     "name": "stdout",
     "output_type": "stream",
     "text": [
      "Ttest_relResult(statistic=8.020706944109957, pvalue=4.1030005857111781e-08)\n"
     ]
    }
   ],
   "source": [
    "# Calculate t-statistic with SciPy for the difference between Incongruent and Congruent being 0\n",
    "t_stat = stats.ttest_rel(data['Incongruent'], data['Congruent'])\n",
    "print(t_stat)"
   ]
  },
  {
   "cell_type": "code",
   "execution_count": 118,
   "metadata": {
    "collapsed": false
   },
   "outputs": [
    {
     "name": "stdout",
     "output_type": "stream",
     "text": [
      "1.71387152775\n"
     ]
    }
   ],
   "source": [
    "# Calculate one-sided critical t-value for alpha=0.05\n",
    "t_critical = stats.t.ppf(1-0.05, data.shape[0]-1)\n",
    "print(t_critical)"
   ]
  },
  {
   "cell_type": "code",
   "execution_count": 119,
   "metadata": {
    "collapsed": false
   },
   "outputs": [
    {
     "name": "stdout",
     "output_type": "stream",
     "text": [
      "(6.2628681632825467, 9.6667151700507858)\n"
     ]
    }
   ],
   "source": [
    "# Calculate 95% CI for mean difference\n",
    "margin_err = t_critical * data['Diff'].std() / math.sqrt(data.shape[0])\n",
    "ci = (data['Diff'].mean() - margin_err, data['Diff'].mean() + margin_err)\n",
    "print(ci)"
   ]
  },
  {
   "cell_type": "markdown",
   "metadata": {},
   "source": [
    "### Results\n",
    "\n",
    "There was a significant effect for incongruence _t(23) = 8.02, p < .001_, for the incongruent list taking more time to finish.\n",
    "\n",
    "Confidence interval for the mean difference in seconds _95% CI = (6.26, 9.67)_\n",
    "\n",
    "We can reject $H_0$ and accept $H_1$, as the t-statistic is well over the one-sided critical t-value for the chosen alpha level (5%). The t-statistic is actually so high that the associated p-value falls far below .001, so the result is statistically significant with even lower alpha levels.\n",
    "\n",
    "This actually confirms my previous expectation. My times were 13.267s for the congruent and 19.902s for the incongruent lists, and besides the reasonably higher time I felt that the second list requires much more effort to finish. This made the assumption that the incongruent list takes more time on average plausible."
   ]
  },
  {
   "cell_type": "markdown",
   "metadata": {},
   "source": [
    "## References\n",
    "\n",
    "1. Scipy Stats documentation: [https://docs.scipy.org/doc/scipy/reference/stats.html](https://docs.scipy.org/doc/scipy/reference/stats.html)\n",
    "2. Seaborn documentation: [https://seaborn.pydata.org/index.html](https://seaborn.pydata.org/index.html)\n",
    "3. Matplotlib documentation: [https://matplotlib.org/api/pyplot_api.html](https://matplotlib.org/api/pyplot_api.html)\n",
    "4. Reporting Statistics in APA Style [http://my.ilstu.edu/~jhkahn/apastats.html](http://my.ilstu.edu/~jhkahn/apastats.html)"
   ]
  }
 ],
 "metadata": {
  "kernelspec": {
   "display_name": "Python [conda env:nanodegree]",
   "language": "python",
   "name": "conda-env-nanodegree-py"
  },
  "language_info": {
   "codemirror_mode": {
    "name": "ipython",
    "version": 3
   },
   "file_extension": ".py",
   "mimetype": "text/x-python",
   "name": "python",
   "nbconvert_exporter": "python",
   "pygments_lexer": "ipython3",
   "version": "3.5.3"
  }
 },
 "nbformat": 4,
 "nbformat_minor": 0
}
